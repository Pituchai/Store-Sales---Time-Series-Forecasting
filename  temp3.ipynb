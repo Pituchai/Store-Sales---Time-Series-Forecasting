{
 "cells": [
  {
   "cell_type": "code",
   "execution_count": 1,
   "id": "bf1b07b4",
   "metadata": {},
   "outputs": [],
   "source": [
    "import warnings\n",
    "warnings.filterwarnings('ignore')\n",
    "import seaborn as sns\n",
    "import pandas as pd \n",
    "import numpy as np\n",
    "import matplotlib.pyplot as plt\n"
   ]
  },
  {
   "cell_type": "code",
   "execution_count": 212,
   "id": "41c43fb0",
   "metadata": {},
   "outputs": [],
   "source": [
    "oil_df=pd.read_csv(\"oil.csv\")\n",
    "hol_df=pd.read_csv(\"holidays_events.csv\")\n",
    "train_df=pd.read_csv(\"train.csv\")\n",
    "trans_df=pd.read_csv('transactions.csv')\n",
    "test_df=pd.read_csv('test.csv')\n",
    "store_df=pd.read_csv('stores.csv')\n",
    "sub_df=pd.read_csv(\"sample_submission.csv\")"
   ]
  },
  {
   "cell_type": "code",
   "execution_count": 289,
   "id": "eaa29e6a",
   "metadata": {},
   "outputs": [
    {
     "data": {
      "text/html": [
       "<div>\n",
       "<style scoped>\n",
       "    .dataframe tbody tr th:only-of-type {\n",
       "        vertical-align: middle;\n",
       "    }\n",
       "\n",
       "    .dataframe tbody tr th {\n",
       "        vertical-align: top;\n",
       "    }\n",
       "\n",
       "    .dataframe thead th {\n",
       "        text-align: right;\n",
       "    }\n",
       "</style>\n",
       "<table border=\"1\" class=\"dataframe\">\n",
       "  <thead>\n",
       "    <tr style=\"text-align: right;\">\n",
       "      <th></th>\n",
       "      <th>id</th>\n",
       "      <th>date</th>\n",
       "      <th>store_nbr</th>\n",
       "      <th>family</th>\n",
       "      <th>onpromotion</th>\n",
       "      <th>year</th>\n",
       "      <th>month</th>\n",
       "      <th>day</th>\n",
       "    </tr>\n",
       "  </thead>\n",
       "  <tbody>\n",
       "    <tr>\n",
       "      <th>0</th>\n",
       "      <td>3000888</td>\n",
       "      <td>2017-08-16</td>\n",
       "      <td>1</td>\n",
       "      <td>0</td>\n",
       "      <td>0</td>\n",
       "      <td>2017</td>\n",
       "      <td>8</td>\n",
       "      <td>16</td>\n",
       "    </tr>\n",
       "    <tr>\n",
       "      <th>1</th>\n",
       "      <td>3000889</td>\n",
       "      <td>2017-08-16</td>\n",
       "      <td>1</td>\n",
       "      <td>1</td>\n",
       "      <td>0</td>\n",
       "      <td>2017</td>\n",
       "      <td>8</td>\n",
       "      <td>16</td>\n",
       "    </tr>\n",
       "    <tr>\n",
       "      <th>2</th>\n",
       "      <td>3000890</td>\n",
       "      <td>2017-08-16</td>\n",
       "      <td>1</td>\n",
       "      <td>2</td>\n",
       "      <td>2</td>\n",
       "      <td>2017</td>\n",
       "      <td>8</td>\n",
       "      <td>16</td>\n",
       "    </tr>\n",
       "    <tr>\n",
       "      <th>3</th>\n",
       "      <td>3000891</td>\n",
       "      <td>2017-08-16</td>\n",
       "      <td>1</td>\n",
       "      <td>3</td>\n",
       "      <td>20</td>\n",
       "      <td>2017</td>\n",
       "      <td>8</td>\n",
       "      <td>16</td>\n",
       "    </tr>\n",
       "    <tr>\n",
       "      <th>4</th>\n",
       "      <td>3000892</td>\n",
       "      <td>2017-08-16</td>\n",
       "      <td>1</td>\n",
       "      <td>4</td>\n",
       "      <td>0</td>\n",
       "      <td>2017</td>\n",
       "      <td>8</td>\n",
       "      <td>16</td>\n",
       "    </tr>\n",
       "  </tbody>\n",
       "</table>\n",
       "</div>"
      ],
      "text/plain": [
       "        id       date  store_nbr  family  onpromotion  year  month  day\n",
       "0  3000888 2017-08-16          1       0            0  2017      8   16\n",
       "1  3000889 2017-08-16          1       1            0  2017      8   16\n",
       "2  3000890 2017-08-16          1       2            2  2017      8   16\n",
       "3  3000891 2017-08-16          1       3           20  2017      8   16\n",
       "4  3000892 2017-08-16          1       4            0  2017      8   16"
      ]
     },
     "execution_count": 289,
     "metadata": {},
     "output_type": "execute_result"
    }
   ],
   "source": [
    "test_df.head()"
   ]
  },
  {
   "cell_type": "code",
   "execution_count": 213,
   "id": "8388fa1b",
   "metadata": {},
   "outputs": [
    {
     "data": {
      "text/html": [
       "<div>\n",
       "<style scoped>\n",
       "    .dataframe tbody tr th:only-of-type {\n",
       "        vertical-align: middle;\n",
       "    }\n",
       "\n",
       "    .dataframe tbody tr th {\n",
       "        vertical-align: top;\n",
       "    }\n",
       "\n",
       "    .dataframe thead th {\n",
       "        text-align: right;\n",
       "    }\n",
       "</style>\n",
       "<table border=\"1\" class=\"dataframe\">\n",
       "  <thead>\n",
       "    <tr style=\"text-align: right;\">\n",
       "      <th></th>\n",
       "      <th>date</th>\n",
       "      <th>dcoilwtico</th>\n",
       "    </tr>\n",
       "  </thead>\n",
       "  <tbody>\n",
       "    <tr>\n",
       "      <th>0</th>\n",
       "      <td>2013-01-01</td>\n",
       "      <td>NaN</td>\n",
       "    </tr>\n",
       "    <tr>\n",
       "      <th>1</th>\n",
       "      <td>2013-01-02</td>\n",
       "      <td>93.14</td>\n",
       "    </tr>\n",
       "    <tr>\n",
       "      <th>2</th>\n",
       "      <td>2013-01-03</td>\n",
       "      <td>92.97</td>\n",
       "    </tr>\n",
       "    <tr>\n",
       "      <th>3</th>\n",
       "      <td>2013-01-04</td>\n",
       "      <td>93.12</td>\n",
       "    </tr>\n",
       "    <tr>\n",
       "      <th>4</th>\n",
       "      <td>2013-01-07</td>\n",
       "      <td>93.20</td>\n",
       "    </tr>\n",
       "  </tbody>\n",
       "</table>\n",
       "</div>"
      ],
      "text/plain": [
       "         date  dcoilwtico\n",
       "0  2013-01-01         NaN\n",
       "1  2013-01-02       93.14\n",
       "2  2013-01-03       92.97\n",
       "3  2013-01-04       93.12\n",
       "4  2013-01-07       93.20"
      ]
     },
     "execution_count": 213,
     "metadata": {},
     "output_type": "execute_result"
    }
   ],
   "source": [
    "oil_df.head()"
   ]
  },
  {
   "cell_type": "code",
   "execution_count": 214,
   "id": "11850287",
   "metadata": {},
   "outputs": [],
   "source": [
    "train_df['onpromotion'].fillna(0, inplace=True)\n",
    "test_df['onpromotion'].fillna(0,inplace=True)\n"
   ]
  },
  {
   "cell_type": "code",
   "execution_count": 215,
   "id": "0a436c12",
   "metadata": {},
   "outputs": [
    {
     "data": {
      "text/html": [
       "<div>\n",
       "<style scoped>\n",
       "    .dataframe tbody tr th:only-of-type {\n",
       "        vertical-align: middle;\n",
       "    }\n",
       "\n",
       "    .dataframe tbody tr th {\n",
       "        vertical-align: top;\n",
       "    }\n",
       "\n",
       "    .dataframe thead th {\n",
       "        text-align: right;\n",
       "    }\n",
       "</style>\n",
       "<table border=\"1\" class=\"dataframe\">\n",
       "  <thead>\n",
       "    <tr style=\"text-align: right;\">\n",
       "      <th></th>\n",
       "      <th>date</th>\n",
       "      <th>dcoilwtico</th>\n",
       "    </tr>\n",
       "  </thead>\n",
       "  <tbody>\n",
       "    <tr>\n",
       "      <th>0</th>\n",
       "      <td>2013-01-01</td>\n",
       "      <td>NaN</td>\n",
       "    </tr>\n",
       "    <tr>\n",
       "      <th>1</th>\n",
       "      <td>2013-01-02</td>\n",
       "      <td>93.14</td>\n",
       "    </tr>\n",
       "    <tr>\n",
       "      <th>2</th>\n",
       "      <td>2013-01-03</td>\n",
       "      <td>92.97</td>\n",
       "    </tr>\n",
       "    <tr>\n",
       "      <th>3</th>\n",
       "      <td>2013-01-04</td>\n",
       "      <td>93.12</td>\n",
       "    </tr>\n",
       "    <tr>\n",
       "      <th>4</th>\n",
       "      <td>2013-01-07</td>\n",
       "      <td>93.20</td>\n",
       "    </tr>\n",
       "  </tbody>\n",
       "</table>\n",
       "</div>"
      ],
      "text/plain": [
       "         date  dcoilwtico\n",
       "0  2013-01-01         NaN\n",
       "1  2013-01-02       93.14\n",
       "2  2013-01-03       92.97\n",
       "3  2013-01-04       93.12\n",
       "4  2013-01-07       93.20"
      ]
     },
     "execution_count": 215,
     "metadata": {},
     "output_type": "execute_result"
    }
   ],
   "source": [
    "oil_df.head()"
   ]
  },
  {
   "cell_type": "markdown",
   "id": "61a7eca7",
   "metadata": {},
   "source": [
    "## Preprocessing "
   ]
  },
  {
   "cell_type": "code",
   "execution_count": 216,
   "id": "6d5378bb",
   "metadata": {},
   "outputs": [],
   "source": [
    "train_df['date'] = pd.to_datetime(train_df['date'])\n",
    "test_df['date'] = pd.to_datetime(test_df['date'])\n",
    "oil_df['date'] = pd.to_datetime(oil_df['date'])\n",
    "hol_df['date'] = pd.to_datetime(hol_df['date'])\n",
    "\n",
    "\n",
    "train_df['year'] = train_df['date'].dt.year\n",
    "train_df['month'] = train_df['date'].dt.month\n",
    "train_df['day'] = train_df['date'].dt.day\n",
    "\n",
    "test_df['year'] = test_df['date'].dt.year\n",
    "test_df['month'] = test_df['date'].dt.month\n",
    "test_df['day'] = test_df['date'].dt.day\n",
    "\n",
    "oil_df['year'] = oil_df['date'].dt.year\n",
    "oil_df['month'] = oil_df['date'].dt.month\n",
    "oil_df['day'] = oil_df['date'].dt.day\n",
    "\n",
    "hol_df['year'] = hol_df['date'].dt.year\n",
    "hol_df['month'] = hol_df['date'].dt.month\n",
    "hol_df['day'] = hol_df['date'].dt.day\n",
    "\n",
    "\n",
    "\n"
   ]
  },
  {
   "cell_type": "code",
   "execution_count": 217,
   "id": "bd72ed62",
   "metadata": {
    "scrolled": true
   },
   "outputs": [
    {
     "data": {
      "text/plain": [
       "(        date  dcoilwtico  year  month  day\n",
       " 0 2013-01-01         NaN  2013      1    1\n",
       " 1 2013-01-02       93.14  2013      1    2\n",
       " 2 2013-01-03       92.97  2013      1    3\n",
       " 3 2013-01-04       93.12  2013      1    4\n",
       " 4 2013-01-07       93.20  2013      1    7,\n",
       "    id       date  store_nbr      family  sales  onpromotion  year  month  day\n",
       " 0   0 2013-01-01          1  AUTOMOTIVE    0.0            0  2013      1    1\n",
       " 1   1 2013-01-01          1   BABY CARE    0.0            0  2013      1    1\n",
       " 2   2 2013-01-01          1      BEAUTY    0.0            0  2013      1    1\n",
       " 3   3 2013-01-01          1   BEVERAGES    0.0            0  2013      1    1\n",
       " 4   4 2013-01-01          1       BOOKS    0.0            0  2013      1    1,\n",
       "         id       date  store_nbr      family  onpromotion  year  month  day\n",
       " 0  3000888 2017-08-16          1  AUTOMOTIVE            0  2017      8   16\n",
       " 1  3000889 2017-08-16          1   BABY CARE            0  2017      8   16\n",
       " 2  3000890 2017-08-16          1      BEAUTY            2  2017      8   16\n",
       " 3  3000891 2017-08-16          1   BEVERAGES           20  2017      8   16\n",
       " 4  3000892 2017-08-16          1       BOOKS            0  2017      8   16)"
      ]
     },
     "execution_count": 217,
     "metadata": {},
     "output_type": "execute_result"
    }
   ],
   "source": [
    "oil_df.head(),train_df.head(),test_df.head()"
   ]
  },
  {
   "cell_type": "markdown",
   "id": "a1bf1ad3",
   "metadata": {},
   "source": [
    "## Merge dateset train test with oil "
   ]
  },
  {
   "cell_type": "code",
   "execution_count": 290,
   "id": "64d3e8a5",
   "metadata": {},
   "outputs": [],
   "source": [
    "merged_df = pd.merge(train_df, oil_df, on=\"date\", how=\"left\").merge(right=store_df,on=\"store_nbr\",how=\"left\")\n",
    "merged_test = pd.merge(test_df, oil_df, on=\"date\", how=\"left\").merge(right=store_df,on=\"store_nbr\",how=\"left\")"
   ]
  },
  {
   "cell_type": "code",
   "execution_count": 292,
   "id": "b663e151",
   "metadata": {
    "scrolled": true
   },
   "outputs": [
    {
     "data": {
      "text/html": [
       "<div>\n",
       "<style scoped>\n",
       "    .dataframe tbody tr th:only-of-type {\n",
       "        vertical-align: middle;\n",
       "    }\n",
       "\n",
       "    .dataframe tbody tr th {\n",
       "        vertical-align: top;\n",
       "    }\n",
       "\n",
       "    .dataframe thead th {\n",
       "        text-align: right;\n",
       "    }\n",
       "</style>\n",
       "<table border=\"1\" class=\"dataframe\">\n",
       "  <thead>\n",
       "    <tr style=\"text-align: right;\">\n",
       "      <th></th>\n",
       "      <th>id</th>\n",
       "      <th>date</th>\n",
       "      <th>store_nbr</th>\n",
       "      <th>family</th>\n",
       "      <th>onpromotion</th>\n",
       "      <th>year_x</th>\n",
       "      <th>month_x</th>\n",
       "      <th>day_x</th>\n",
       "      <th>dcoilwtico</th>\n",
       "      <th>year_y</th>\n",
       "      <th>month_y</th>\n",
       "      <th>day_y</th>\n",
       "      <th>city</th>\n",
       "      <th>state</th>\n",
       "      <th>type</th>\n",
       "      <th>cluster</th>\n",
       "    </tr>\n",
       "  </thead>\n",
       "  <tbody>\n",
       "    <tr>\n",
       "      <th>0</th>\n",
       "      <td>3000888</td>\n",
       "      <td>2017-08-16</td>\n",
       "      <td>1</td>\n",
       "      <td>0</td>\n",
       "      <td>0</td>\n",
       "      <td>2017</td>\n",
       "      <td>8</td>\n",
       "      <td>16</td>\n",
       "      <td>46.8</td>\n",
       "      <td>2017.0</td>\n",
       "      <td>8.0</td>\n",
       "      <td>16.0</td>\n",
       "      <td>Quito</td>\n",
       "      <td>Pichincha</td>\n",
       "      <td>D</td>\n",
       "      <td>13</td>\n",
       "    </tr>\n",
       "    <tr>\n",
       "      <th>1</th>\n",
       "      <td>3000889</td>\n",
       "      <td>2017-08-16</td>\n",
       "      <td>1</td>\n",
       "      <td>1</td>\n",
       "      <td>0</td>\n",
       "      <td>2017</td>\n",
       "      <td>8</td>\n",
       "      <td>16</td>\n",
       "      <td>46.8</td>\n",
       "      <td>2017.0</td>\n",
       "      <td>8.0</td>\n",
       "      <td>16.0</td>\n",
       "      <td>Quito</td>\n",
       "      <td>Pichincha</td>\n",
       "      <td>D</td>\n",
       "      <td>13</td>\n",
       "    </tr>\n",
       "    <tr>\n",
       "      <th>2</th>\n",
       "      <td>3000890</td>\n",
       "      <td>2017-08-16</td>\n",
       "      <td>1</td>\n",
       "      <td>2</td>\n",
       "      <td>2</td>\n",
       "      <td>2017</td>\n",
       "      <td>8</td>\n",
       "      <td>16</td>\n",
       "      <td>46.8</td>\n",
       "      <td>2017.0</td>\n",
       "      <td>8.0</td>\n",
       "      <td>16.0</td>\n",
       "      <td>Quito</td>\n",
       "      <td>Pichincha</td>\n",
       "      <td>D</td>\n",
       "      <td>13</td>\n",
       "    </tr>\n",
       "    <tr>\n",
       "      <th>3</th>\n",
       "      <td>3000891</td>\n",
       "      <td>2017-08-16</td>\n",
       "      <td>1</td>\n",
       "      <td>3</td>\n",
       "      <td>20</td>\n",
       "      <td>2017</td>\n",
       "      <td>8</td>\n",
       "      <td>16</td>\n",
       "      <td>46.8</td>\n",
       "      <td>2017.0</td>\n",
       "      <td>8.0</td>\n",
       "      <td>16.0</td>\n",
       "      <td>Quito</td>\n",
       "      <td>Pichincha</td>\n",
       "      <td>D</td>\n",
       "      <td>13</td>\n",
       "    </tr>\n",
       "    <tr>\n",
       "      <th>4</th>\n",
       "      <td>3000892</td>\n",
       "      <td>2017-08-16</td>\n",
       "      <td>1</td>\n",
       "      <td>4</td>\n",
       "      <td>0</td>\n",
       "      <td>2017</td>\n",
       "      <td>8</td>\n",
       "      <td>16</td>\n",
       "      <td>46.8</td>\n",
       "      <td>2017.0</td>\n",
       "      <td>8.0</td>\n",
       "      <td>16.0</td>\n",
       "      <td>Quito</td>\n",
       "      <td>Pichincha</td>\n",
       "      <td>D</td>\n",
       "      <td>13</td>\n",
       "    </tr>\n",
       "  </tbody>\n",
       "</table>\n",
       "</div>"
      ],
      "text/plain": [
       "        id       date  store_nbr  family  onpromotion  year_x  month_x  day_x  \\\n",
       "0  3000888 2017-08-16          1       0            0    2017        8     16   \n",
       "1  3000889 2017-08-16          1       1            0    2017        8     16   \n",
       "2  3000890 2017-08-16          1       2            2    2017        8     16   \n",
       "3  3000891 2017-08-16          1       3           20    2017        8     16   \n",
       "4  3000892 2017-08-16          1       4            0    2017        8     16   \n",
       "\n",
       "   dcoilwtico  year_y  month_y  day_y   city      state type  cluster  \n",
       "0        46.8  2017.0      8.0   16.0  Quito  Pichincha    D       13  \n",
       "1        46.8  2017.0      8.0   16.0  Quito  Pichincha    D       13  \n",
       "2        46.8  2017.0      8.0   16.0  Quito  Pichincha    D       13  \n",
       "3        46.8  2017.0      8.0   16.0  Quito  Pichincha    D       13  \n",
       "4        46.8  2017.0      8.0   16.0  Quito  Pichincha    D       13  "
      ]
     },
     "execution_count": 292,
     "metadata": {},
     "output_type": "execute_result"
    }
   ],
   "source": [
    "merged_df.head(), \n"
   ]
  },
  {
   "cell_type": "code",
   "execution_count": 293,
   "id": "c5948bb1",
   "metadata": {},
   "outputs": [
    {
     "data": {
      "text/html": [
       "<div>\n",
       "<style scoped>\n",
       "    .dataframe tbody tr th:only-of-type {\n",
       "        vertical-align: middle;\n",
       "    }\n",
       "\n",
       "    .dataframe tbody tr th {\n",
       "        vertical-align: top;\n",
       "    }\n",
       "\n",
       "    .dataframe thead th {\n",
       "        text-align: right;\n",
       "    }\n",
       "</style>\n",
       "<table border=\"1\" class=\"dataframe\">\n",
       "  <thead>\n",
       "    <tr style=\"text-align: right;\">\n",
       "      <th></th>\n",
       "      <th>id</th>\n",
       "      <th>date</th>\n",
       "      <th>store_nbr</th>\n",
       "      <th>family</th>\n",
       "      <th>onpromotion</th>\n",
       "      <th>year_x</th>\n",
       "      <th>month_x</th>\n",
       "      <th>day_x</th>\n",
       "      <th>dcoilwtico</th>\n",
       "      <th>year_y</th>\n",
       "      <th>month_y</th>\n",
       "      <th>day_y</th>\n",
       "      <th>city</th>\n",
       "      <th>state</th>\n",
       "      <th>type</th>\n",
       "      <th>cluster</th>\n",
       "    </tr>\n",
       "  </thead>\n",
       "  <tbody>\n",
       "    <tr>\n",
       "      <th>0</th>\n",
       "      <td>3000888</td>\n",
       "      <td>2017-08-16</td>\n",
       "      <td>1</td>\n",
       "      <td>0</td>\n",
       "      <td>0</td>\n",
       "      <td>2017</td>\n",
       "      <td>8</td>\n",
       "      <td>16</td>\n",
       "      <td>46.8</td>\n",
       "      <td>2017.0</td>\n",
       "      <td>8.0</td>\n",
       "      <td>16.0</td>\n",
       "      <td>Quito</td>\n",
       "      <td>Pichincha</td>\n",
       "      <td>D</td>\n",
       "      <td>13</td>\n",
       "    </tr>\n",
       "    <tr>\n",
       "      <th>1</th>\n",
       "      <td>3000889</td>\n",
       "      <td>2017-08-16</td>\n",
       "      <td>1</td>\n",
       "      <td>1</td>\n",
       "      <td>0</td>\n",
       "      <td>2017</td>\n",
       "      <td>8</td>\n",
       "      <td>16</td>\n",
       "      <td>46.8</td>\n",
       "      <td>2017.0</td>\n",
       "      <td>8.0</td>\n",
       "      <td>16.0</td>\n",
       "      <td>Quito</td>\n",
       "      <td>Pichincha</td>\n",
       "      <td>D</td>\n",
       "      <td>13</td>\n",
       "    </tr>\n",
       "    <tr>\n",
       "      <th>2</th>\n",
       "      <td>3000890</td>\n",
       "      <td>2017-08-16</td>\n",
       "      <td>1</td>\n",
       "      <td>2</td>\n",
       "      <td>2</td>\n",
       "      <td>2017</td>\n",
       "      <td>8</td>\n",
       "      <td>16</td>\n",
       "      <td>46.8</td>\n",
       "      <td>2017.0</td>\n",
       "      <td>8.0</td>\n",
       "      <td>16.0</td>\n",
       "      <td>Quito</td>\n",
       "      <td>Pichincha</td>\n",
       "      <td>D</td>\n",
       "      <td>13</td>\n",
       "    </tr>\n",
       "    <tr>\n",
       "      <th>3</th>\n",
       "      <td>3000891</td>\n",
       "      <td>2017-08-16</td>\n",
       "      <td>1</td>\n",
       "      <td>3</td>\n",
       "      <td>20</td>\n",
       "      <td>2017</td>\n",
       "      <td>8</td>\n",
       "      <td>16</td>\n",
       "      <td>46.8</td>\n",
       "      <td>2017.0</td>\n",
       "      <td>8.0</td>\n",
       "      <td>16.0</td>\n",
       "      <td>Quito</td>\n",
       "      <td>Pichincha</td>\n",
       "      <td>D</td>\n",
       "      <td>13</td>\n",
       "    </tr>\n",
       "    <tr>\n",
       "      <th>4</th>\n",
       "      <td>3000892</td>\n",
       "      <td>2017-08-16</td>\n",
       "      <td>1</td>\n",
       "      <td>4</td>\n",
       "      <td>0</td>\n",
       "      <td>2017</td>\n",
       "      <td>8</td>\n",
       "      <td>16</td>\n",
       "      <td>46.8</td>\n",
       "      <td>2017.0</td>\n",
       "      <td>8.0</td>\n",
       "      <td>16.0</td>\n",
       "      <td>Quito</td>\n",
       "      <td>Pichincha</td>\n",
       "      <td>D</td>\n",
       "      <td>13</td>\n",
       "    </tr>\n",
       "  </tbody>\n",
       "</table>\n",
       "</div>"
      ],
      "text/plain": [
       "        id       date  store_nbr  family  onpromotion  year_x  month_x  day_x  \\\n",
       "0  3000888 2017-08-16          1       0            0    2017        8     16   \n",
       "1  3000889 2017-08-16          1       1            0    2017        8     16   \n",
       "2  3000890 2017-08-16          1       2            2    2017        8     16   \n",
       "3  3000891 2017-08-16          1       3           20    2017        8     16   \n",
       "4  3000892 2017-08-16          1       4            0    2017        8     16   \n",
       "\n",
       "   dcoilwtico  year_y  month_y  day_y   city      state type  cluster  \n",
       "0        46.8  2017.0      8.0   16.0  Quito  Pichincha    D       13  \n",
       "1        46.8  2017.0      8.0   16.0  Quito  Pichincha    D       13  \n",
       "2        46.8  2017.0      8.0   16.0  Quito  Pichincha    D       13  \n",
       "3        46.8  2017.0      8.0   16.0  Quito  Pichincha    D       13  \n",
       "4        46.8  2017.0      8.0   16.0  Quito  Pichincha    D       13  "
      ]
     },
     "execution_count": 293,
     "metadata": {},
     "output_type": "execute_result"
    }
   ],
   "source": [
    "merged_test.head()"
   ]
  },
  {
   "cell_type": "code",
   "execution_count": 294,
   "id": "925262a3",
   "metadata": {},
   "outputs": [],
   "source": [
    "merged_df.rename(columns={\"type_x\": \"store_type\"}, inplace=True)\n",
    "merged_df.rename(columns={\"type_y\": \"holiday_type\"}, inplace=True)\n",
    "\n",
    "merged_test.rename(columns={\"type_x\": \"store_type\"}, inplace=True)\n",
    "merged_test.rename(columns={\"type_y\": \"holiday_type\"}, inplace=True)\n",
    "\n"
   ]
  },
  {
   "cell_type": "code",
   "execution_count": 74,
   "id": "424ec4ea",
   "metadata": {
    "scrolled": true
   },
   "outputs": [
    {
     "name": "stdout",
     "output_type": "stream",
     "text": [
      "id\n",
      "date\n",
      "store_nbr\n",
      "family\n",
      "sales\n",
      "onpromotion\n",
      "year_x\n",
      "month_x\n",
      "day_x\n",
      "dcoilwtico\n",
      "year_y\n",
      "month_y\n",
      "day_y\n",
      "city\n",
      "state\n",
      "store_type\n",
      "cluster\n",
      "holiday_type\n",
      "locale\n",
      "locale_name\n",
      "description\n",
      "transferred\n",
      "year\n",
      "month\n",
      "day\n"
     ]
    }
   ],
   "source": [
    "for column_name in merged_df.columns:\n",
    "    print(column_name)"
   ]
  },
  {
   "cell_type": "code",
   "execution_count": 310,
   "id": "23f9831c",
   "metadata": {
    "scrolled": true
   },
   "outputs": [],
   "source": [
    "columns_to_drop1 = [  'year_x', 'month_x', 'day_x','year_y', 'month_y', 'day_y', 'city', 'state', 'type','cluster']\n",
    "columns_2=  ['type', 'cluster']\n",
    "\n",
    "merged_df = merged_df.drop(columns=columns_2)"
   ]
  },
  {
   "cell_type": "code",
   "execution_count": 311,
   "id": "b47a685d",
   "metadata": {},
   "outputs": [
    {
     "data": {
      "text/html": [
       "<div>\n",
       "<style scoped>\n",
       "    .dataframe tbody tr th:only-of-type {\n",
       "        vertical-align: middle;\n",
       "    }\n",
       "\n",
       "    .dataframe tbody tr th {\n",
       "        vertical-align: top;\n",
       "    }\n",
       "\n",
       "    .dataframe thead th {\n",
       "        text-align: right;\n",
       "    }\n",
       "</style>\n",
       "<table border=\"1\" class=\"dataframe\">\n",
       "  <thead>\n",
       "    <tr style=\"text-align: right;\">\n",
       "      <th></th>\n",
       "      <th>id</th>\n",
       "      <th>date</th>\n",
       "      <th>store_nbr</th>\n",
       "      <th>family</th>\n",
       "      <th>sales</th>\n",
       "      <th>onpromotion</th>\n",
       "      <th>dcoilwtico</th>\n",
       "    </tr>\n",
       "  </thead>\n",
       "  <tbody>\n",
       "    <tr>\n",
       "      <th>0</th>\n",
       "      <td>0</td>\n",
       "      <td>2013-01-01</td>\n",
       "      <td>1</td>\n",
       "      <td>0</td>\n",
       "      <td>0.000</td>\n",
       "      <td>0</td>\n",
       "      <td>NaN</td>\n",
       "    </tr>\n",
       "    <tr>\n",
       "      <th>1</th>\n",
       "      <td>1</td>\n",
       "      <td>2013-01-01</td>\n",
       "      <td>1</td>\n",
       "      <td>1</td>\n",
       "      <td>0.000</td>\n",
       "      <td>0</td>\n",
       "      <td>NaN</td>\n",
       "    </tr>\n",
       "    <tr>\n",
       "      <th>2</th>\n",
       "      <td>2</td>\n",
       "      <td>2013-01-01</td>\n",
       "      <td>1</td>\n",
       "      <td>2</td>\n",
       "      <td>0.000</td>\n",
       "      <td>0</td>\n",
       "      <td>NaN</td>\n",
       "    </tr>\n",
       "    <tr>\n",
       "      <th>3</th>\n",
       "      <td>3</td>\n",
       "      <td>2013-01-01</td>\n",
       "      <td>1</td>\n",
       "      <td>3</td>\n",
       "      <td>0.000</td>\n",
       "      <td>0</td>\n",
       "      <td>NaN</td>\n",
       "    </tr>\n",
       "    <tr>\n",
       "      <th>4</th>\n",
       "      <td>4</td>\n",
       "      <td>2013-01-01</td>\n",
       "      <td>1</td>\n",
       "      <td>4</td>\n",
       "      <td>0.000</td>\n",
       "      <td>0</td>\n",
       "      <td>NaN</td>\n",
       "    </tr>\n",
       "    <tr>\n",
       "      <th>...</th>\n",
       "      <td>...</td>\n",
       "      <td>...</td>\n",
       "      <td>...</td>\n",
       "      <td>...</td>\n",
       "      <td>...</td>\n",
       "      <td>...</td>\n",
       "      <td>...</td>\n",
       "    </tr>\n",
       "    <tr>\n",
       "      <th>3000883</th>\n",
       "      <td>3000883</td>\n",
       "      <td>2017-08-15</td>\n",
       "      <td>9</td>\n",
       "      <td>28</td>\n",
       "      <td>438.133</td>\n",
       "      <td>0</td>\n",
       "      <td>47.57</td>\n",
       "    </tr>\n",
       "    <tr>\n",
       "      <th>3000884</th>\n",
       "      <td>3000884</td>\n",
       "      <td>2017-08-15</td>\n",
       "      <td>9</td>\n",
       "      <td>29</td>\n",
       "      <td>154.553</td>\n",
       "      <td>1</td>\n",
       "      <td>47.57</td>\n",
       "    </tr>\n",
       "    <tr>\n",
       "      <th>3000885</th>\n",
       "      <td>3000885</td>\n",
       "      <td>2017-08-15</td>\n",
       "      <td>9</td>\n",
       "      <td>30</td>\n",
       "      <td>2419.729</td>\n",
       "      <td>148</td>\n",
       "      <td>47.57</td>\n",
       "    </tr>\n",
       "    <tr>\n",
       "      <th>3000886</th>\n",
       "      <td>3000886</td>\n",
       "      <td>2017-08-15</td>\n",
       "      <td>9</td>\n",
       "      <td>31</td>\n",
       "      <td>121.000</td>\n",
       "      <td>8</td>\n",
       "      <td>47.57</td>\n",
       "    </tr>\n",
       "    <tr>\n",
       "      <th>3000887</th>\n",
       "      <td>3000887</td>\n",
       "      <td>2017-08-15</td>\n",
       "      <td>9</td>\n",
       "      <td>32</td>\n",
       "      <td>16.000</td>\n",
       "      <td>0</td>\n",
       "      <td>47.57</td>\n",
       "    </tr>\n",
       "  </tbody>\n",
       "</table>\n",
       "<p>3000888 rows × 7 columns</p>\n",
       "</div>"
      ],
      "text/plain": [
       "              id       date  store_nbr  family     sales  onpromotion  \\\n",
       "0              0 2013-01-01          1       0     0.000            0   \n",
       "1              1 2013-01-01          1       1     0.000            0   \n",
       "2              2 2013-01-01          1       2     0.000            0   \n",
       "3              3 2013-01-01          1       3     0.000            0   \n",
       "4              4 2013-01-01          1       4     0.000            0   \n",
       "...          ...        ...        ...     ...       ...          ...   \n",
       "3000883  3000883 2017-08-15          9      28   438.133            0   \n",
       "3000884  3000884 2017-08-15          9      29   154.553            1   \n",
       "3000885  3000885 2017-08-15          9      30  2419.729          148   \n",
       "3000886  3000886 2017-08-15          9      31   121.000            8   \n",
       "3000887  3000887 2017-08-15          9      32    16.000            0   \n",
       "\n",
       "         dcoilwtico  \n",
       "0               NaN  \n",
       "1               NaN  \n",
       "2               NaN  \n",
       "3               NaN  \n",
       "4               NaN  \n",
       "...             ...  \n",
       "3000883       47.57  \n",
       "3000884       47.57  \n",
       "3000885       47.57  \n",
       "3000886       47.57  \n",
       "3000887       47.57  \n",
       "\n",
       "[3000888 rows x 7 columns]"
      ]
     },
     "execution_count": 311,
     "metadata": {},
     "output_type": "execute_result"
    }
   ],
   "source": [
    "merged_df"
   ]
  },
  {
   "cell_type": "code",
   "execution_count": 312,
   "id": "52311e28",
   "metadata": {},
   "outputs": [
    {
     "data": {
      "text/plain": [
       "(   id       date  store_nbr  family  sales  onpromotion  dcoilwtico\n",
       " 0   0 2013-01-01          1       0    0.0            0         NaN\n",
       " 1   1 2013-01-01          1       1    0.0            0         NaN\n",
       " 2   2 2013-01-01          1       2    0.0            0         NaN\n",
       " 3   3 2013-01-01          1       3    0.0            0         NaN\n",
       " 4   4 2013-01-01          1       4    0.0            0         NaN,)"
      ]
     },
     "execution_count": 312,
     "metadata": {},
     "output_type": "execute_result"
    }
   ],
   "source": [
    "## train+oil\n",
    "merged_df.head(),"
   ]
  },
  {
   "cell_type": "code",
   "execution_count": 313,
   "id": "b680e3d5",
   "metadata": {},
   "outputs": [
    {
     "data": {
      "text/html": [
       "<div>\n",
       "<style scoped>\n",
       "    .dataframe tbody tr th:only-of-type {\n",
       "        vertical-align: middle;\n",
       "    }\n",
       "\n",
       "    .dataframe tbody tr th {\n",
       "        vertical-align: top;\n",
       "    }\n",
       "\n",
       "    .dataframe thead th {\n",
       "        text-align: right;\n",
       "    }\n",
       "</style>\n",
       "<table border=\"1\" class=\"dataframe\">\n",
       "  <thead>\n",
       "    <tr style=\"text-align: right;\">\n",
       "      <th></th>\n",
       "      <th>id</th>\n",
       "      <th>date</th>\n",
       "      <th>store_nbr</th>\n",
       "      <th>family</th>\n",
       "      <th>onpromotion</th>\n",
       "      <th>dcoilwtico</th>\n",
       "    </tr>\n",
       "  </thead>\n",
       "  <tbody>\n",
       "    <tr>\n",
       "      <th>0</th>\n",
       "      <td>3000888</td>\n",
       "      <td>2017-08-16</td>\n",
       "      <td>1</td>\n",
       "      <td>0</td>\n",
       "      <td>0</td>\n",
       "      <td>46.8</td>\n",
       "    </tr>\n",
       "    <tr>\n",
       "      <th>1</th>\n",
       "      <td>3000889</td>\n",
       "      <td>2017-08-16</td>\n",
       "      <td>1</td>\n",
       "      <td>1</td>\n",
       "      <td>0</td>\n",
       "      <td>46.8</td>\n",
       "    </tr>\n",
       "    <tr>\n",
       "      <th>2</th>\n",
       "      <td>3000890</td>\n",
       "      <td>2017-08-16</td>\n",
       "      <td>1</td>\n",
       "      <td>2</td>\n",
       "      <td>2</td>\n",
       "      <td>46.8</td>\n",
       "    </tr>\n",
       "    <tr>\n",
       "      <th>3</th>\n",
       "      <td>3000891</td>\n",
       "      <td>2017-08-16</td>\n",
       "      <td>1</td>\n",
       "      <td>3</td>\n",
       "      <td>20</td>\n",
       "      <td>46.8</td>\n",
       "    </tr>\n",
       "    <tr>\n",
       "      <th>4</th>\n",
       "      <td>3000892</td>\n",
       "      <td>2017-08-16</td>\n",
       "      <td>1</td>\n",
       "      <td>4</td>\n",
       "      <td>0</td>\n",
       "      <td>46.8</td>\n",
       "    </tr>\n",
       "  </tbody>\n",
       "</table>\n",
       "</div>"
      ],
      "text/plain": [
       "        id       date  store_nbr  family  onpromotion  dcoilwtico\n",
       "0  3000888 2017-08-16          1       0            0        46.8\n",
       "1  3000889 2017-08-16          1       1            0        46.8\n",
       "2  3000890 2017-08-16          1       2            2        46.8\n",
       "3  3000891 2017-08-16          1       3           20        46.8\n",
       "4  3000892 2017-08-16          1       4            0        46.8"
      ]
     },
     "execution_count": 313,
     "metadata": {},
     "output_type": "execute_result"
    }
   ],
   "source": [
    "merged_test.head()"
   ]
  },
  {
   "cell_type": "code",
   "execution_count": 314,
   "id": "72fbc8ce",
   "metadata": {},
   "outputs": [
    {
     "data": {
      "text/plain": [
       "id                  0\n",
       "date                0\n",
       "store_nbr           0\n",
       "family              0\n",
       "sales               0\n",
       "onpromotion         0\n",
       "dcoilwtico     928422\n",
       "dtype: int64"
      ]
     },
     "execution_count": 314,
     "metadata": {},
     "output_type": "execute_result"
    }
   ],
   "source": [
    "merged_df.isna().sum()\n"
   ]
  },
  {
   "cell_type": "code",
   "execution_count": 315,
   "id": "3cddfa0c",
   "metadata": {},
   "outputs": [
    {
     "data": {
      "text/plain": [
       "id                0\n",
       "date              0\n",
       "store_nbr         0\n",
       "family            0\n",
       "onpromotion       0\n",
       "dcoilwtico     7128\n",
       "dtype: int64"
      ]
     },
     "execution_count": 315,
     "metadata": {},
     "output_type": "execute_result"
    }
   ],
   "source": [
    "merged_test.isna().sum()\n"
   ]
  },
  {
   "cell_type": "code",
   "execution_count": 316,
   "id": "33b115af",
   "metadata": {},
   "outputs": [
    {
     "data": {
      "text/html": [
       "<div>\n",
       "<style scoped>\n",
       "    .dataframe tbody tr th:only-of-type {\n",
       "        vertical-align: middle;\n",
       "    }\n",
       "\n",
       "    .dataframe tbody tr th {\n",
       "        vertical-align: top;\n",
       "    }\n",
       "\n",
       "    .dataframe thead th {\n",
       "        text-align: right;\n",
       "    }\n",
       "</style>\n",
       "<table border=\"1\" class=\"dataframe\">\n",
       "  <thead>\n",
       "    <tr style=\"text-align: right;\">\n",
       "      <th></th>\n",
       "      <th>date</th>\n",
       "      <th>dcoilwtico</th>\n",
       "      <th>year</th>\n",
       "      <th>month</th>\n",
       "      <th>day</th>\n",
       "    </tr>\n",
       "  </thead>\n",
       "  <tbody>\n",
       "    <tr>\n",
       "      <th>0</th>\n",
       "      <td>2013-01-01</td>\n",
       "      <td>NaN</td>\n",
       "      <td>2013</td>\n",
       "      <td>1</td>\n",
       "      <td>1</td>\n",
       "    </tr>\n",
       "    <tr>\n",
       "      <th>1</th>\n",
       "      <td>2013-01-02</td>\n",
       "      <td>93.14</td>\n",
       "      <td>2013</td>\n",
       "      <td>1</td>\n",
       "      <td>2</td>\n",
       "    </tr>\n",
       "    <tr>\n",
       "      <th>2</th>\n",
       "      <td>2013-01-03</td>\n",
       "      <td>92.97</td>\n",
       "      <td>2013</td>\n",
       "      <td>1</td>\n",
       "      <td>3</td>\n",
       "    </tr>\n",
       "    <tr>\n",
       "      <th>3</th>\n",
       "      <td>2013-01-04</td>\n",
       "      <td>93.12</td>\n",
       "      <td>2013</td>\n",
       "      <td>1</td>\n",
       "      <td>4</td>\n",
       "    </tr>\n",
       "    <tr>\n",
       "      <th>4</th>\n",
       "      <td>2013-01-07</td>\n",
       "      <td>93.20</td>\n",
       "      <td>2013</td>\n",
       "      <td>1</td>\n",
       "      <td>7</td>\n",
       "    </tr>\n",
       "  </tbody>\n",
       "</table>\n",
       "</div>"
      ],
      "text/plain": [
       "        date  dcoilwtico  year  month  day\n",
       "0 2013-01-01         NaN  2013      1    1\n",
       "1 2013-01-02       93.14  2013      1    2\n",
       "2 2013-01-03       92.97  2013      1    3\n",
       "3 2013-01-04       93.12  2013      1    4\n",
       "4 2013-01-07       93.20  2013      1    7"
      ]
     },
     "execution_count": 316,
     "metadata": {},
     "output_type": "execute_result"
    }
   ],
   "source": [
    "oil_df.head()"
   ]
  },
  {
   "cell_type": "code",
   "execution_count": 320,
   "id": "ed3b259f",
   "metadata": {},
   "outputs": [
    {
     "data": {
      "text/plain": [
       "928422"
      ]
     },
     "execution_count": 320,
     "metadata": {},
     "output_type": "execute_result"
    }
   ],
   "source": [
    "merged_df['dcoilwtico'].isna().sum()\n",
    "\n"
   ]
  },
  {
   "cell_type": "code",
   "execution_count": 321,
   "id": "16c28fc5",
   "metadata": {},
   "outputs": [
    {
     "data": {
      "text/plain": [
       "7128"
      ]
     },
     "execution_count": 321,
     "metadata": {},
     "output_type": "execute_result"
    }
   ],
   "source": [
    "merged_test['dcoilwtico'].isna().sum()"
   ]
  },
  {
   "cell_type": "code",
   "execution_count": 273,
   "id": "38770ac3",
   "metadata": {},
   "outputs": [
    {
     "data": {
      "text/plain": [
       "0            NaN\n",
       "1            NaN\n",
       "2            NaN\n",
       "3            NaN\n",
       "4            NaN\n",
       "           ...  \n",
       "3000883    47.57\n",
       "3000884    47.57\n",
       "3000885    47.57\n",
       "3000886    47.57\n",
       "3000887    47.57\n",
       "Name: dcoilwtico, Length: 3000888, dtype: float64"
      ]
     },
     "execution_count": 273,
     "metadata": {},
     "output_type": "execute_result"
    }
   ],
   "source": [
    "merged_df['dcoilwtico'].fillna(method='ffill')\n"
   ]
  },
  {
   "cell_type": "code",
   "execution_count": 322,
   "id": "f9773cec",
   "metadata": {},
   "outputs": [
    {
     "data": {
      "text/plain": [
       "0        46.80\n",
       "1        46.80\n",
       "2        46.80\n",
       "3        46.80\n",
       "4        46.80\n",
       "         ...  \n",
       "28507    47.26\n",
       "28508    47.26\n",
       "28509    47.26\n",
       "28510    47.26\n",
       "28511    47.26\n",
       "Name: dcoilwtico, Length: 28512, dtype: float64"
      ]
     },
     "execution_count": 322,
     "metadata": {},
     "output_type": "execute_result"
    }
   ],
   "source": [
    "merged_test['dcoilwtico'].fillna(method='ffill')"
   ]
  },
  {
   "cell_type": "code",
   "execution_count": 324,
   "id": "09310c4d",
   "metadata": {},
   "outputs": [],
   "source": [
    "merged_df['dcoilwtico'].fillna(method='bfill', inplace=True)\n"
   ]
  },
  {
   "cell_type": "code",
   "execution_count": 325,
   "id": "647d4c51",
   "metadata": {},
   "outputs": [],
   "source": [
    "merged_test['dcoilwtico'].fillna(method='bfill', inplace=True)\n"
   ]
  },
  {
   "cell_type": "code",
   "execution_count": 275,
   "id": "00dfbebf",
   "metadata": {},
   "outputs": [
    {
     "data": {
      "text/plain": [
       "0"
      ]
     },
     "execution_count": 275,
     "metadata": {},
     "output_type": "execute_result"
    }
   ],
   "source": [
    "merged_df['dcoilwtico'].isna().sum()\n"
   ]
  },
  {
   "cell_type": "code",
   "execution_count": 326,
   "id": "6798f4e1",
   "metadata": {},
   "outputs": [
    {
     "data": {
      "text/plain": [
       "0"
      ]
     },
     "execution_count": 326,
     "metadata": {},
     "output_type": "execute_result"
    }
   ],
   "source": [
    "merged_test['dcoilwtico'].isna().sum()"
   ]
  },
  {
   "cell_type": "code",
   "execution_count": 327,
   "id": "a1c6e4c4",
   "metadata": {},
   "outputs": [
    {
     "data": {
      "text/plain": [
       "(0          93.14\n",
       " 1          93.14\n",
       " 2          93.14\n",
       " 3          93.14\n",
       " 4          93.14\n",
       "            ...  \n",
       " 3000883    47.57\n",
       " 3000884    47.57\n",
       " 3000885    47.57\n",
       " 3000886    47.57\n",
       " 3000887    47.57\n",
       " Name: dcoilwtico, Length: 3000888, dtype: float64,\n",
       " 0        46.80\n",
       " 1        46.80\n",
       " 2        46.80\n",
       " 3        46.80\n",
       " 4        46.80\n",
       "          ...  \n",
       " 28507    47.26\n",
       " 28508    47.26\n",
       " 28509    47.26\n",
       " 28510    47.26\n",
       " 28511    47.26\n",
       " Name: dcoilwtico, Length: 28512, dtype: float64)"
      ]
     },
     "execution_count": 327,
     "metadata": {},
     "output_type": "execute_result"
    }
   ],
   "source": [
    "merged_df['dcoilwtico'], merged_test['dcoilwtico']"
   ]
  },
  {
   "cell_type": "code",
   "execution_count": 328,
   "id": "dcddf19b",
   "metadata": {},
   "outputs": [],
   "source": [
    "X_train = pd.get_dummies(merged_df, columns=['family'], drop_first=True)\n",
    "Y_train = pd.get_dummies(merged_test, columns=['family'], drop_first=True)"
   ]
  },
  {
   "cell_type": "code",
   "execution_count": 277,
   "id": "22f73263",
   "metadata": {},
   "outputs": [
    {
     "data": {
      "text/plain": [
       "(              id       date  store_nbr     sales  onpromotion  dcoilwtico  \\\n",
       " 0              0 2013-01-01          1     0.000            0       93.14   \n",
       " 1              1 2013-01-01          1     0.000            0       93.14   \n",
       " 2              2 2013-01-01          1     0.000            0       93.14   \n",
       " 3              3 2013-01-01          1     0.000            0       93.14   \n",
       " 4              4 2013-01-01          1     0.000            0       93.14   \n",
       " ...          ...        ...        ...       ...          ...         ...   \n",
       " 3000883  3000883 2017-08-15          9   438.133            0       47.57   \n",
       " 3000884  3000884 2017-08-15          9   154.553            1       47.57   \n",
       " 3000885  3000885 2017-08-15          9  2419.729          148       47.57   \n",
       " 3000886  3000886 2017-08-15          9   121.000            8       47.57   \n",
       " 3000887  3000887 2017-08-15          9    16.000            0       47.57   \n",
       " \n",
       "          cluster  family_1  family_2  family_3  ...  family_23  family_24  \\\n",
       " 0             13         0         0         0  ...          0          0   \n",
       " 1             13         1         0         0  ...          0          0   \n",
       " 2             13         0         1         0  ...          0          0   \n",
       " 3             13         0         0         1  ...          0          0   \n",
       " 4             13         0         0         0  ...          0          0   \n",
       " ...          ...       ...       ...       ...  ...        ...        ...   \n",
       " 3000883        6         0         0         0  ...          0          0   \n",
       " 3000884        6         0         0         0  ...          0          0   \n",
       " 3000885        6         0         0         0  ...          0          0   \n",
       " 3000886        6         0         0         0  ...          0          0   \n",
       " 3000887        6         0         0         0  ...          0          0   \n",
       " \n",
       "          family_25  family_26  family_27  family_28  family_29  family_30  \\\n",
       " 0                0          0          0          0          0          0   \n",
       " 1                0          0          0          0          0          0   \n",
       " 2                0          0          0          0          0          0   \n",
       " 3                0          0          0          0          0          0   \n",
       " 4                0          0          0          0          0          0   \n",
       " ...            ...        ...        ...        ...        ...        ...   \n",
       " 3000883          0          0          0          1          0          0   \n",
       " 3000884          0          0          0          0          1          0   \n",
       " 3000885          0          0          0          0          0          1   \n",
       " 3000886          0          0          0          0          0          0   \n",
       " 3000887          0          0          0          0          0          0   \n",
       " \n",
       "          family_31  family_32  \n",
       " 0                0          0  \n",
       " 1                0          0  \n",
       " 2                0          0  \n",
       " 3                0          0  \n",
       " 4                0          0  \n",
       " ...            ...        ...  \n",
       " 3000883          0          0  \n",
       " 3000884          0          0  \n",
       " 3000885          0          0  \n",
       " 3000886          1          0  \n",
       " 3000887          0          1  \n",
       " \n",
       " [3000888 rows x 39 columns],\n",
       "               id       date  store_nbr     sales  onpromotion  dcoilwtico  \\\n",
       " 0              0 2013-01-01          1     0.000            0       93.14   \n",
       " 1              1 2013-01-01          1     0.000            0       93.14   \n",
       " 2              2 2013-01-01          1     0.000            0       93.14   \n",
       " 3              3 2013-01-01          1     0.000            0       93.14   \n",
       " 4              4 2013-01-01          1     0.000            0       93.14   \n",
       " ...          ...        ...        ...       ...          ...         ...   \n",
       " 3000883  3000883 2017-08-15          9   438.133            0       47.57   \n",
       " 3000884  3000884 2017-08-15          9   154.553            1       47.57   \n",
       " 3000885  3000885 2017-08-15          9  2419.729          148       47.57   \n",
       " 3000886  3000886 2017-08-15          9   121.000            8       47.57   \n",
       " 3000887  3000887 2017-08-15          9    16.000            0       47.57   \n",
       " \n",
       "          cluster  family_1  family_2  family_3  ...  family_23  family_24  \\\n",
       " 0             13         0         0         0  ...          0          0   \n",
       " 1             13         1         0         0  ...          0          0   \n",
       " 2             13         0         1         0  ...          0          0   \n",
       " 3             13         0         0         1  ...          0          0   \n",
       " 4             13         0         0         0  ...          0          0   \n",
       " ...          ...       ...       ...       ...  ...        ...        ...   \n",
       " 3000883        6         0         0         0  ...          0          0   \n",
       " 3000884        6         0         0         0  ...          0          0   \n",
       " 3000885        6         0         0         0  ...          0          0   \n",
       " 3000886        6         0         0         0  ...          0          0   \n",
       " 3000887        6         0         0         0  ...          0          0   \n",
       " \n",
       "          family_25  family_26  family_27  family_28  family_29  family_30  \\\n",
       " 0                0          0          0          0          0          0   \n",
       " 1                0          0          0          0          0          0   \n",
       " 2                0          0          0          0          0          0   \n",
       " 3                0          0          0          0          0          0   \n",
       " 4                0          0          0          0          0          0   \n",
       " ...            ...        ...        ...        ...        ...        ...   \n",
       " 3000883          0          0          0          1          0          0   \n",
       " 3000884          0          0          0          0          1          0   \n",
       " 3000885          0          0          0          0          0          1   \n",
       " 3000886          0          0          0          0          0          0   \n",
       " 3000887          0          0          0          0          0          0   \n",
       " \n",
       "          family_31  family_32  \n",
       " 0                0          0  \n",
       " 1                0          0  \n",
       " 2                0          0  \n",
       " 3                0          0  \n",
       " 4                0          0  \n",
       " ...            ...        ...  \n",
       " 3000883          0          0  \n",
       " 3000884          0          0  \n",
       " 3000885          0          0  \n",
       " 3000886          1          0  \n",
       " 3000887          0          1  \n",
       " \n",
       " [3000888 rows x 39 columns])"
      ]
     },
     "execution_count": 277,
     "metadata": {},
     "output_type": "execute_result"
    }
   ],
   "source": [
    "X_train, Y_train "
   ]
  },
  {
   "cell_type": "code",
   "execution_count": 329,
   "id": "908a995a",
   "metadata": {},
   "outputs": [],
   "source": [
    "X_train = merged_df.drop(['sales','date'], axis = 1)\n",
    "Y_train = merged_df['sales']"
   ]
  },
  {
   "cell_type": "code",
   "execution_count": 330,
   "id": "506e4ba7",
   "metadata": {},
   "outputs": [
    {
     "data": {
      "text/plain": [
       "(              id  store_nbr  family  onpromotion  dcoilwtico\n",
       " 0              0          1       0            0       93.14\n",
       " 1              1          1       1            0       93.14\n",
       " 2              2          1       2            0       93.14\n",
       " 3              3          1       3            0       93.14\n",
       " 4              4          1       4            0       93.14\n",
       " ...          ...        ...     ...          ...         ...\n",
       " 3000883  3000883          9      28            0       47.57\n",
       " 3000884  3000884          9      29            1       47.57\n",
       " 3000885  3000885          9      30          148       47.57\n",
       " 3000886  3000886          9      31            8       47.57\n",
       " 3000887  3000887          9      32            0       47.57\n",
       " \n",
       " [3000888 rows x 5 columns],\n",
       " 0             0.000\n",
       " 1             0.000\n",
       " 2             0.000\n",
       " 3             0.000\n",
       " 4             0.000\n",
       "              ...   \n",
       " 3000883     438.133\n",
       " 3000884     154.553\n",
       " 3000885    2419.729\n",
       " 3000886     121.000\n",
       " 3000887      16.000\n",
       " Name: sales, Length: 3000888, dtype: float64)"
      ]
     },
     "execution_count": 330,
     "metadata": {},
     "output_type": "execute_result"
    }
   ],
   "source": [
    "X_train, Y_train "
   ]
  },
  {
   "cell_type": "code",
   "execution_count": 332,
   "id": "32bf2be1",
   "metadata": {},
   "outputs": [],
   "source": [
    "X_test = merged_test.drop(['date'], axis=1)"
   ]
  },
  {
   "cell_type": "markdown",
   "id": "724dd39a",
   "metadata": {},
   "source": [
    "## Normalization "
   ]
  },
  {
   "cell_type": "code",
   "execution_count": 341,
   "id": "23721bc0",
   "metadata": {},
   "outputs": [],
   "source": [
    "from sklearn.model_selection import train_test_split\n",
    "from sklearn.preprocessing import LabelEncoder\n",
    "\n",
    "le = LabelEncoder()\n",
    "\n",
    "# Transform 'family' column for training data\n",
    "train_df['family'] = le.fit_transform(merged_df['family'])\n",
    "\n",
    "# Transform 'family' column for test data\n",
    "test_df['family'] = le.transform(test_df['family'])\n",
    "\n",
    "# Assuming 'sales' is the target variable\n",
    "Y_train = merged_df['sales']\n",
    "X_train = merged_df.drop(['sales',  'date'], axis=1)\n",
    "\n",
    "# Assuming X_test is your test data\n",
    "\n",
    "X_test = merged_test.drop(['date'], axis=1)\n",
    "\n",
    "\n"
   ]
  },
  {
   "cell_type": "code",
   "execution_count": 335,
   "id": "a310735a",
   "metadata": {},
   "outputs": [
    {
     "data": {
      "text/plain": [
       "(              id  store_nbr  family  onpromotion  dcoilwtico\n",
       " 0              0          1       0            0       93.14\n",
       " 1              1          1       1            0       93.14\n",
       " 2              2          1       2            0       93.14\n",
       " 3              3          1       3            0       93.14\n",
       " 4              4          1       4            0       93.14\n",
       " ...          ...        ...     ...          ...         ...\n",
       " 3000883  3000883          9      28            0       47.57\n",
       " 3000884  3000884          9      29            1       47.57\n",
       " 3000885  3000885          9      30          148       47.57\n",
       " 3000886  3000886          9      31            8       47.57\n",
       " 3000887  3000887          9      32            0       47.57\n",
       " \n",
       " [3000888 rows x 5 columns],\n",
       "             id  store_nbr  family  onpromotion\n",
       " 0      3000888          1       0            0\n",
       " 1      3000889          1       1            0\n",
       " 2      3000890          1       2            2\n",
       " 3      3000891          1       3           20\n",
       " 4      3000892          1       4            0\n",
       " ...        ...        ...     ...          ...\n",
       " 28507  3029395          9      28            1\n",
       " 28508  3029396          9      29            0\n",
       " 28509  3029397          9      30            1\n",
       " 28510  3029398          9      31            9\n",
       " 28511  3029399          9      32            0\n",
       " \n",
       " [28512 rows x 4 columns])"
      ]
     },
     "execution_count": 335,
     "metadata": {},
     "output_type": "execute_result"
    }
   ],
   "source": [
    "# Drop unnecessary columns from the training data\n",
    "X_train , X_test \n"
   ]
  },
  {
   "cell_type": "code",
   "execution_count": 336,
   "id": "a67b94f0",
   "metadata": {},
   "outputs": [
    {
     "data": {
      "text/plain": [
       "(              id  store_nbr  family  onpromotion  dcoilwtico\n",
       " 0              0          1       0            0       93.14\n",
       " 1              1          1       1            0       93.14\n",
       " 2              2          1       2            0       93.14\n",
       " 3              3          1       3            0       93.14\n",
       " 4              4          1       4            0       93.14\n",
       " ...          ...        ...     ...          ...         ...\n",
       " 3000883  3000883          9      28            0       47.57\n",
       " 3000884  3000884          9      29            1       47.57\n",
       " 3000885  3000885          9      30          148       47.57\n",
       " 3000886  3000886          9      31            8       47.57\n",
       " 3000887  3000887          9      32            0       47.57\n",
       " \n",
       " [3000888 rows x 5 columns],\n",
       " 0             0.000\n",
       " 1             0.000\n",
       " 2             0.000\n",
       " 3             0.000\n",
       " 4             0.000\n",
       "              ...   \n",
       " 3000883     438.133\n",
       " 3000884     154.553\n",
       " 3000885    2419.729\n",
       " 3000886     121.000\n",
       " 3000887      16.000\n",
       " Name: sales, Length: 3000888, dtype: float64)"
      ]
     },
     "execution_count": 336,
     "metadata": {},
     "output_type": "execute_result"
    }
   ],
   "source": [
    "X_train, Y_train "
   ]
  },
  {
   "cell_type": "code",
   "execution_count": null,
   "id": "4dcd1c3a",
   "metadata": {},
   "outputs": [],
   "source": []
  },
  {
   "cell_type": "markdown",
   "id": "08d296ce",
   "metadata": {},
   "source": [
    "## Model "
   ]
  },
  {
   "cell_type": "code",
   "execution_count": 339,
   "id": "ebfbd5fd",
   "metadata": {},
   "outputs": [
    {
     "data": {
      "text/html": [
       "<div>\n",
       "<style scoped>\n",
       "    .dataframe tbody tr th:only-of-type {\n",
       "        vertical-align: middle;\n",
       "    }\n",
       "\n",
       "    .dataframe tbody tr th {\n",
       "        vertical-align: top;\n",
       "    }\n",
       "\n",
       "    .dataframe thead th {\n",
       "        text-align: right;\n",
       "    }\n",
       "</style>\n",
       "<table border=\"1\" class=\"dataframe\">\n",
       "  <thead>\n",
       "    <tr style=\"text-align: right;\">\n",
       "      <th></th>\n",
       "      <th>id</th>\n",
       "      <th>store_nbr</th>\n",
       "      <th>family</th>\n",
       "      <th>onpromotion</th>\n",
       "    </tr>\n",
       "  </thead>\n",
       "  <tbody>\n",
       "    <tr>\n",
       "      <th>0</th>\n",
       "      <td>3000888</td>\n",
       "      <td>1</td>\n",
       "      <td>0</td>\n",
       "      <td>0</td>\n",
       "    </tr>\n",
       "    <tr>\n",
       "      <th>1</th>\n",
       "      <td>3000889</td>\n",
       "      <td>1</td>\n",
       "      <td>1</td>\n",
       "      <td>0</td>\n",
       "    </tr>\n",
       "    <tr>\n",
       "      <th>2</th>\n",
       "      <td>3000890</td>\n",
       "      <td>1</td>\n",
       "      <td>2</td>\n",
       "      <td>2</td>\n",
       "    </tr>\n",
       "    <tr>\n",
       "      <th>3</th>\n",
       "      <td>3000891</td>\n",
       "      <td>1</td>\n",
       "      <td>3</td>\n",
       "      <td>20</td>\n",
       "    </tr>\n",
       "    <tr>\n",
       "      <th>4</th>\n",
       "      <td>3000892</td>\n",
       "      <td>1</td>\n",
       "      <td>4</td>\n",
       "      <td>0</td>\n",
       "    </tr>\n",
       "    <tr>\n",
       "      <th>...</th>\n",
       "      <td>...</td>\n",
       "      <td>...</td>\n",
       "      <td>...</td>\n",
       "      <td>...</td>\n",
       "    </tr>\n",
       "    <tr>\n",
       "      <th>28507</th>\n",
       "      <td>3029395</td>\n",
       "      <td>9</td>\n",
       "      <td>28</td>\n",
       "      <td>1</td>\n",
       "    </tr>\n",
       "    <tr>\n",
       "      <th>28508</th>\n",
       "      <td>3029396</td>\n",
       "      <td>9</td>\n",
       "      <td>29</td>\n",
       "      <td>0</td>\n",
       "    </tr>\n",
       "    <tr>\n",
       "      <th>28509</th>\n",
       "      <td>3029397</td>\n",
       "      <td>9</td>\n",
       "      <td>30</td>\n",
       "      <td>1</td>\n",
       "    </tr>\n",
       "    <tr>\n",
       "      <th>28510</th>\n",
       "      <td>3029398</td>\n",
       "      <td>9</td>\n",
       "      <td>31</td>\n",
       "      <td>9</td>\n",
       "    </tr>\n",
       "    <tr>\n",
       "      <th>28511</th>\n",
       "      <td>3029399</td>\n",
       "      <td>9</td>\n",
       "      <td>32</td>\n",
       "      <td>0</td>\n",
       "    </tr>\n",
       "  </tbody>\n",
       "</table>\n",
       "<p>28512 rows × 4 columns</p>\n",
       "</div>"
      ],
      "text/plain": [
       "            id  store_nbr  family  onpromotion\n",
       "0      3000888          1       0            0\n",
       "1      3000889          1       1            0\n",
       "2      3000890          1       2            2\n",
       "3      3000891          1       3           20\n",
       "4      3000892          1       4            0\n",
       "...        ...        ...     ...          ...\n",
       "28507  3029395          9      28            1\n",
       "28508  3029396          9      29            0\n",
       "28509  3029397          9      30            1\n",
       "28510  3029398          9      31            9\n",
       "28511  3029399          9      32            0\n",
       "\n",
       "[28512 rows x 4 columns]"
      ]
     },
     "execution_count": 339,
     "metadata": {},
     "output_type": "execute_result"
    }
   ],
   "source": [
    "X_test\n"
   ]
  },
  {
   "cell_type": "code",
   "execution_count": 337,
   "id": "fb429bd6",
   "metadata": {},
   "outputs": [
    {
     "data": {
      "text/html": [
       "<style>#sk-container-id-7 {color: black;background-color: white;}#sk-container-id-7 pre{padding: 0;}#sk-container-id-7 div.sk-toggleable {background-color: white;}#sk-container-id-7 label.sk-toggleable__label {cursor: pointer;display: block;width: 100%;margin-bottom: 0;padding: 0.3em;box-sizing: border-box;text-align: center;}#sk-container-id-7 label.sk-toggleable__label-arrow:before {content: \"▸\";float: left;margin-right: 0.25em;color: #696969;}#sk-container-id-7 label.sk-toggleable__label-arrow:hover:before {color: black;}#sk-container-id-7 div.sk-estimator:hover label.sk-toggleable__label-arrow:before {color: black;}#sk-container-id-7 div.sk-toggleable__content {max-height: 0;max-width: 0;overflow: hidden;text-align: left;background-color: #f0f8ff;}#sk-container-id-7 div.sk-toggleable__content pre {margin: 0.2em;color: black;border-radius: 0.25em;background-color: #f0f8ff;}#sk-container-id-7 input.sk-toggleable__control:checked~div.sk-toggleable__content {max-height: 200px;max-width: 100%;overflow: auto;}#sk-container-id-7 input.sk-toggleable__control:checked~label.sk-toggleable__label-arrow:before {content: \"▾\";}#sk-container-id-7 div.sk-estimator input.sk-toggleable__control:checked~label.sk-toggleable__label {background-color: #d4ebff;}#sk-container-id-7 div.sk-label input.sk-toggleable__control:checked~label.sk-toggleable__label {background-color: #d4ebff;}#sk-container-id-7 input.sk-hidden--visually {border: 0;clip: rect(1px 1px 1px 1px);clip: rect(1px, 1px, 1px, 1px);height: 1px;margin: -1px;overflow: hidden;padding: 0;position: absolute;width: 1px;}#sk-container-id-7 div.sk-estimator {font-family: monospace;background-color: #f0f8ff;border: 1px dotted black;border-radius: 0.25em;box-sizing: border-box;margin-bottom: 0.5em;}#sk-container-id-7 div.sk-estimator:hover {background-color: #d4ebff;}#sk-container-id-7 div.sk-parallel-item::after {content: \"\";width: 100%;border-bottom: 1px solid gray;flex-grow: 1;}#sk-container-id-7 div.sk-label:hover label.sk-toggleable__label {background-color: #d4ebff;}#sk-container-id-7 div.sk-serial::before {content: \"\";position: absolute;border-left: 1px solid gray;box-sizing: border-box;top: 0;bottom: 0;left: 50%;z-index: 0;}#sk-container-id-7 div.sk-serial {display: flex;flex-direction: column;align-items: center;background-color: white;padding-right: 0.2em;padding-left: 0.2em;position: relative;}#sk-container-id-7 div.sk-item {position: relative;z-index: 1;}#sk-container-id-7 div.sk-parallel {display: flex;align-items: stretch;justify-content: center;background-color: white;position: relative;}#sk-container-id-7 div.sk-item::before, #sk-container-id-7 div.sk-parallel-item::before {content: \"\";position: absolute;border-left: 1px solid gray;box-sizing: border-box;top: 0;bottom: 0;left: 50%;z-index: -1;}#sk-container-id-7 div.sk-parallel-item {display: flex;flex-direction: column;z-index: 1;position: relative;background-color: white;}#sk-container-id-7 div.sk-parallel-item:first-child::after {align-self: flex-end;width: 50%;}#sk-container-id-7 div.sk-parallel-item:last-child::after {align-self: flex-start;width: 50%;}#sk-container-id-7 div.sk-parallel-item:only-child::after {width: 0;}#sk-container-id-7 div.sk-dashed-wrapped {border: 1px dashed gray;margin: 0 0.4em 0.5em 0.4em;box-sizing: border-box;padding-bottom: 0.4em;background-color: white;}#sk-container-id-7 div.sk-label label {font-family: monospace;font-weight: bold;display: inline-block;line-height: 1.2em;}#sk-container-id-7 div.sk-label-container {text-align: center;}#sk-container-id-7 div.sk-container {/* jupyter's `normalize.less` sets `[hidden] { display: none; }` but bootstrap.min.css set `[hidden] { display: none !important; }` so we also need the `!important` here to be able to override the default hidden behavior on the sphinx rendered scikit-learn.org. See: https://github.com/scikit-learn/scikit-learn/issues/21755 */display: inline-block !important;position: relative;}#sk-container-id-7 div.sk-text-repr-fallback {display: none;}</style><div id=\"sk-container-id-7\" class=\"sk-top-container\"><div class=\"sk-text-repr-fallback\"><pre>DecisionTreeRegressor(random_state=1)</pre><b>In a Jupyter environment, please rerun this cell to show the HTML representation or trust the notebook. <br />On GitHub, the HTML representation is unable to render, please try loading this page with nbviewer.org.</b></div><div class=\"sk-container\" hidden><div class=\"sk-item\"><div class=\"sk-estimator sk-toggleable\"><input class=\"sk-toggleable__control sk-hidden--visually\" id=\"sk-estimator-id-7\" type=\"checkbox\" checked><label for=\"sk-estimator-id-7\" class=\"sk-toggleable__label sk-toggleable__label-arrow\">DecisionTreeRegressor</label><div class=\"sk-toggleable__content\"><pre>DecisionTreeRegressor(random_state=1)</pre></div></div></div></div></div>"
      ],
      "text/plain": [
       "DecisionTreeRegressor(random_state=1)"
      ]
     },
     "execution_count": 337,
     "metadata": {},
     "output_type": "execute_result"
    }
   ],
   "source": [
    "from sklearn.tree import DecisionTreeRegressor\n",
    "from sklearn.metrics import mean_squared_error, r2_score\n",
    "import numpy as np\n",
    "\n",
    "train_model = DecisionTreeRegressor(random_state=1)\n",
    "train_model.fit(X_train, Y_train)\n"
   ]
  },
  {
   "cell_type": "code",
   "execution_count": 342,
   "id": "0cfacf8b",
   "metadata": {},
   "outputs": [],
   "source": [
    "predictions = train_model.predict(X_test)"
   ]
  },
  {
   "cell_type": "code",
   "execution_count": 347,
   "id": "985c6ac6",
   "metadata": {},
   "outputs": [],
   "source": [
    "result_df = pd.DataFrame({'id': test_df['id'], 'sales' : predictions})"
   ]
  },
  {
   "cell_type": "code",
   "execution_count": 348,
   "id": "9d551140",
   "metadata": {},
   "outputs": [],
   "source": [
    "result_df.to_csv('sales_prediction_sat5.csv',index = False)"
   ]
  },
  {
   "cell_type": "code",
   "execution_count": 346,
   "id": "ec341296",
   "metadata": {},
   "outputs": [
    {
     "data": {
      "text/html": [
       "<div>\n",
       "<style scoped>\n",
       "    .dataframe tbody tr th:only-of-type {\n",
       "        vertical-align: middle;\n",
       "    }\n",
       "\n",
       "    .dataframe tbody tr th {\n",
       "        vertical-align: top;\n",
       "    }\n",
       "\n",
       "    .dataframe thead th {\n",
       "        text-align: right;\n",
       "    }\n",
       "</style>\n",
       "<table border=\"1\" class=\"dataframe\">\n",
       "  <thead>\n",
       "    <tr style=\"text-align: right;\">\n",
       "      <th></th>\n",
       "      <th>&lt;built-in function id&gt;</th>\n",
       "      <th>sales</th>\n",
       "    </tr>\n",
       "  </thead>\n",
       "  <tbody>\n",
       "    <tr>\n",
       "      <th>0</th>\n",
       "      <td>3000888</td>\n",
       "      <td>4.000</td>\n",
       "    </tr>\n",
       "    <tr>\n",
       "      <th>1</th>\n",
       "      <td>3000889</td>\n",
       "      <td>0.000</td>\n",
       "    </tr>\n",
       "    <tr>\n",
       "      <th>2</th>\n",
       "      <td>3000890</td>\n",
       "      <td>9.000</td>\n",
       "    </tr>\n",
       "    <tr>\n",
       "      <th>3</th>\n",
       "      <td>3000891</td>\n",
       "      <td>2242.000</td>\n",
       "    </tr>\n",
       "    <tr>\n",
       "      <th>4</th>\n",
       "      <td>3000892</td>\n",
       "      <td>0.000</td>\n",
       "    </tr>\n",
       "    <tr>\n",
       "      <th>...</th>\n",
       "      <td>...</td>\n",
       "      <td>...</td>\n",
       "    </tr>\n",
       "    <tr>\n",
       "      <th>28507</th>\n",
       "      <td>3029395</td>\n",
       "      <td>333.132</td>\n",
       "    </tr>\n",
       "    <tr>\n",
       "      <th>28508</th>\n",
       "      <td>3029396</td>\n",
       "      <td>114.120</td>\n",
       "    </tr>\n",
       "    <tr>\n",
       "      <th>28509</th>\n",
       "      <td>3029397</td>\n",
       "      <td>1260.093</td>\n",
       "    </tr>\n",
       "    <tr>\n",
       "      <th>28510</th>\n",
       "      <td>3029398</td>\n",
       "      <td>121.000</td>\n",
       "    </tr>\n",
       "    <tr>\n",
       "      <th>28511</th>\n",
       "      <td>3029399</td>\n",
       "      <td>26.918</td>\n",
       "    </tr>\n",
       "  </tbody>\n",
       "</table>\n",
       "<p>28512 rows × 2 columns</p>\n",
       "</div>"
      ],
      "text/plain": [
       "       <built-in function id>     sales\n",
       "0                     3000888     4.000\n",
       "1                     3000889     0.000\n",
       "2                     3000890     9.000\n",
       "3                     3000891  2242.000\n",
       "4                     3000892     0.000\n",
       "...                       ...       ...\n",
       "28507                 3029395   333.132\n",
       "28508                 3029396   114.120\n",
       "28509                 3029397  1260.093\n",
       "28510                 3029398   121.000\n",
       "28511                 3029399    26.918\n",
       "\n",
       "[28512 rows x 2 columns]"
      ]
     },
     "execution_count": 346,
     "metadata": {},
     "output_type": "execute_result"
    }
   ],
   "source": [
    "result_df"
   ]
  },
  {
   "cell_type": "code",
   "execution_count": 42,
   "id": "fa393460",
   "metadata": {},
   "outputs": [],
   "source": [
    "result_df = pd.DataFrame({'id': test_df['id'], 'sales': predictions}) "
   ]
  },
  {
   "cell_type": "code",
   "execution_count": 43,
   "id": "d0d45bcd",
   "metadata": {},
   "outputs": [
    {
     "data": {
      "text/html": [
       "<div>\n",
       "<style scoped>\n",
       "    .dataframe tbody tr th:only-of-type {\n",
       "        vertical-align: middle;\n",
       "    }\n",
       "\n",
       "    .dataframe tbody tr th {\n",
       "        vertical-align: top;\n",
       "    }\n",
       "\n",
       "    .dataframe thead th {\n",
       "        text-align: right;\n",
       "    }\n",
       "</style>\n",
       "<table border=\"1\" class=\"dataframe\">\n",
       "  <thead>\n",
       "    <tr style=\"text-align: right;\">\n",
       "      <th></th>\n",
       "      <th>id</th>\n",
       "      <th>sales</th>\n",
       "    </tr>\n",
       "  </thead>\n",
       "  <tbody>\n",
       "    <tr>\n",
       "      <th>0</th>\n",
       "      <td>3000888</td>\n",
       "      <td>4.0</td>\n",
       "    </tr>\n",
       "    <tr>\n",
       "      <th>1</th>\n",
       "      <td>3000889</td>\n",
       "      <td>0.0</td>\n",
       "    </tr>\n",
       "    <tr>\n",
       "      <th>2</th>\n",
       "      <td>3000890</td>\n",
       "      <td>9.0</td>\n",
       "    </tr>\n",
       "    <tr>\n",
       "      <th>3</th>\n",
       "      <td>3000891</td>\n",
       "      <td>2977.0</td>\n",
       "    </tr>\n",
       "    <tr>\n",
       "      <th>4</th>\n",
       "      <td>3000892</td>\n",
       "      <td>0.0</td>\n",
       "    </tr>\n",
       "  </tbody>\n",
       "</table>\n",
       "</div>"
      ],
      "text/plain": [
       "        id   sales\n",
       "0  3000888     4.0\n",
       "1  3000889     0.0\n",
       "2  3000890     9.0\n",
       "3  3000891  2977.0\n",
       "4  3000892     0.0"
      ]
     },
     "execution_count": 43,
     "metadata": {},
     "output_type": "execute_result"
    }
   ],
   "source": [
    "result_df.head()"
   ]
  },
  {
   "cell_type": "code",
   "execution_count": 44,
   "id": "4d64cb85",
   "metadata": {},
   "outputs": [],
   "source": [
    "result_df.to_csv('sales_prediction_sat1.csv',index = False)"
   ]
  },
  {
   "cell_type": "code",
   "execution_count": null,
   "id": "18cf8830",
   "metadata": {},
   "outputs": [],
   "source": []
  }
 ],
 "metadata": {
  "kernelspec": {
   "display_name": "Python 3 (ipykernel)",
   "language": "python",
   "name": "python3"
  },
  "language_info": {
   "codemirror_mode": {
    "name": "ipython",
    "version": 3
   },
   "file_extension": ".py",
   "mimetype": "text/x-python",
   "name": "python",
   "nbconvert_exporter": "python",
   "pygments_lexer": "ipython3",
   "version": "3.11.3"
  }
 },
 "nbformat": 4,
 "nbformat_minor": 5
}
