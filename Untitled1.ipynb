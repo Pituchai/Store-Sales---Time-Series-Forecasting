{
 "cells": [
  {
   "cell_type": "code",
   "execution_count": 1,
   "id": "4e1d27b1",
   "metadata": {},
   "outputs": [],
   "source": [
    "import warnings\n",
    "warnings.filterwarnings('ignore')\n",
    "import seaborn as sns\n",
    "import pandas as pd \n",
    "import numpy as np\n",
    "import matplotlib.pyplot as plt\n"
   ]
  },
  {
   "cell_type": "code",
   "execution_count": 2,
   "id": "a3b17b54",
   "metadata": {},
   "outputs": [],
   "source": [
    "oil_df=pd.read_csv(\"oil.csv\")\n",
    "hol_df=pd.read_csv(\"holidays_events.csv\")\n",
    "train_df=pd.read_csv(\"train.csv\")\n",
    "trans_df=pd.read_csv('transactions.csv')\n",
    "test_df=pd.read_csv('test.csv')\n",
    "store_df=pd.read_csv('stores.csv')\n",
    "sub_df=pd.read_csv(\"sample_submission.csv\")"
   ]
  },
  {
   "cell_type": "code",
   "execution_count": 3,
   "id": "a64a4aac",
   "metadata": {},
   "outputs": [],
   "source": [
    "train_df['onpromotion'].fillna(0, inplace=True)\n",
    "test_df['onpromotion'].fillna(0,inplace=True)"
   ]
  },
  {
   "cell_type": "code",
   "execution_count": 4,
   "id": "e0ba0742",
   "metadata": {},
   "outputs": [],
   "source": [
    "train_df['date'] = pd.to_datetime(train_df['date'])\n",
    "test_df['date'] = pd.to_datetime(test_df['date'])\n",
    "train_df['year'] = train_df['date'].dt.year\n",
    "train_df['month'] = train_df['date'].dt.month\n",
    "train_df['day'] = train_df['date'].dt.day\n",
    "test_df['year'] = test_df['date'].dt.year\n",
    "test_df['month'] = test_df['date'].dt.month\n",
    "test_df['day'] = test_df['date'].dt.day\n"
   ]
  },
  {
   "cell_type": "code",
   "execution_count": 5,
   "id": "0bb48c7d",
   "metadata": {},
   "outputs": [],
   "source": [
    "X_train = pd.get_dummies(train_df, columns=['family'], drop_first=True)\n",
    "Y_train = pd.get_dummies(test_df, columns=['family'], drop_first=True)"
   ]
  },
  {
   "cell_type": "code",
   "execution_count": 6,
   "id": "76da6e7f",
   "metadata": {},
   "outputs": [],
   "source": [
    "X_train = train_df.drop(['sales','date'], axis = 1)\n",
    "Y_train = train_df['sales']"
   ]
  },
  {
   "cell_type": "code",
   "execution_count": 7,
   "id": "1b5bbb9c",
   "metadata": {},
   "outputs": [],
   "source": [
    "X_test = test_df.drop(['date'], axis=1)"
   ]
  },
  {
   "cell_type": "markdown",
   "id": "c7b28341",
   "metadata": {},
   "source": [
    "## Normalization "
   ]
  },
  {
   "cell_type": "code",
   "execution_count": 33,
   "id": "19e467fd",
   "metadata": {},
   "outputs": [],
   "source": [
    "from sklearn.model_selection import train_test_split\n",
    "from sklearn.preprocessing import LabelEncoder\n",
    "\n",
    "le = LabelEncoder()\n",
    "\n",
    "# Transform 'family' column for training data\n",
    "train_df['family'] = le.fit_transform(train_df['family'])\n",
    "\n",
    "# Transform 'family' column for test data\n",
    "test_df['family'] = le.transform(test_df['family'])\n",
    "\n",
    "# Assuming 'sales' is the target variable\n",
    "Y_train = train_df['sales']\n",
    "X_train = train_df.drop(['sales',  'date'], axis=1)\n",
    "\n",
    "# Assuming X_test is your test data\n",
    "X_test = test_df.drop(['date'], axis=1)\n",
    "\n"
   ]
  },
  {
   "cell_type": "markdown",
   "id": "ad6ae0bd",
   "metadata": {},
   "source": [
    "## Merge dateset oil to this shit "
   ]
  },
  {
   "cell_type": "code",
   "execution_count": null,
   "id": "5d3c94c3",
   "metadata": {},
   "outputs": [],
   "source": []
  },
  {
   "cell_type": "code",
   "execution_count": 46,
   "id": "845ee490",
   "metadata": {},
   "outputs": [
    {
     "data": {
      "text/plain": [
       "(   id       date  store_nbr  family  sales  onpromotion  year  month  day\n",
       " 0   0 2013-01-01          1       0    0.0            0  2013      1    1\n",
       " 1   1 2013-01-01          1       1    0.0            0  2013      1    1\n",
       " 2   2 2013-01-01          1       2    0.0            0  2013      1    1\n",
       " 3   3 2013-01-01          1       3    0.0            0  2013      1    1\n",
       " 4   4 2013-01-01          1       4    0.0            0  2013      1    1,\n",
       "         id       date  store_nbr  family  onpromotion  year  month  day\n",
       " 0  3000888 2017-08-16          1       0            0  2017      8   16\n",
       " 1  3000889 2017-08-16          1       1            0  2017      8   16\n",
       " 2  3000890 2017-08-16          1       2            2  2017      8   16\n",
       " 3  3000891 2017-08-16          1       3           20  2017      8   16\n",
       " 4  3000892 2017-08-16          1       4            0  2017      8   16)"
      ]
     },
     "execution_count": 46,
     "metadata": {},
     "output_type": "execute_result"
    }
   ],
   "source": [
    "train_df.head(),test_df.head() "
   ]
  },
  {
   "cell_type": "code",
   "execution_count": 47,
   "id": "c5af37a0",
   "metadata": {},
   "outputs": [
    {
     "data": {
      "text/plain": [
       "(   id  store_nbr  family  onpromotion  year  month  day\n",
       " 0   0          1       0            0  2013      1    1\n",
       " 1   1          1       1            0  2013      1    1\n",
       " 2   2          1       2            0  2013      1    1\n",
       " 3   3          1       3            0  2013      1    1\n",
       " 4   4          1       4            0  2013      1    1,\n",
       "         id  store_nbr  family  onpromotion  year  month  day\n",
       " 0  3000888          1       0            0  2017      8   16\n",
       " 1  3000889          1       1            0  2017      8   16\n",
       " 2  3000890          1       2            2  2017      8   16\n",
       " 3  3000891          1       3           20  2017      8   16\n",
       " 4  3000892          1       4            0  2017      8   16)"
      ]
     },
     "execution_count": 47,
     "metadata": {},
     "output_type": "execute_result"
    }
   ],
   "source": [
    "X_train.head(),X_test.head()"
   ]
  },
  {
   "cell_type": "markdown",
   "id": "4399862f",
   "metadata": {},
   "source": [
    "## Model "
   ]
  },
  {
   "cell_type": "code",
   "execution_count": 35,
   "id": "21502f6b",
   "metadata": {},
   "outputs": [
    {
     "data": {
      "text/html": [
       "<style>#sk-container-id-2 {color: black;background-color: white;}#sk-container-id-2 pre{padding: 0;}#sk-container-id-2 div.sk-toggleable {background-color: white;}#sk-container-id-2 label.sk-toggleable__label {cursor: pointer;display: block;width: 100%;margin-bottom: 0;padding: 0.3em;box-sizing: border-box;text-align: center;}#sk-container-id-2 label.sk-toggleable__label-arrow:before {content: \"▸\";float: left;margin-right: 0.25em;color: #696969;}#sk-container-id-2 label.sk-toggleable__label-arrow:hover:before {color: black;}#sk-container-id-2 div.sk-estimator:hover label.sk-toggleable__label-arrow:before {color: black;}#sk-container-id-2 div.sk-toggleable__content {max-height: 0;max-width: 0;overflow: hidden;text-align: left;background-color: #f0f8ff;}#sk-container-id-2 div.sk-toggleable__content pre {margin: 0.2em;color: black;border-radius: 0.25em;background-color: #f0f8ff;}#sk-container-id-2 input.sk-toggleable__control:checked~div.sk-toggleable__content {max-height: 200px;max-width: 100%;overflow: auto;}#sk-container-id-2 input.sk-toggleable__control:checked~label.sk-toggleable__label-arrow:before {content: \"▾\";}#sk-container-id-2 div.sk-estimator input.sk-toggleable__control:checked~label.sk-toggleable__label {background-color: #d4ebff;}#sk-container-id-2 div.sk-label input.sk-toggleable__control:checked~label.sk-toggleable__label {background-color: #d4ebff;}#sk-container-id-2 input.sk-hidden--visually {border: 0;clip: rect(1px 1px 1px 1px);clip: rect(1px, 1px, 1px, 1px);height: 1px;margin: -1px;overflow: hidden;padding: 0;position: absolute;width: 1px;}#sk-container-id-2 div.sk-estimator {font-family: monospace;background-color: #f0f8ff;border: 1px dotted black;border-radius: 0.25em;box-sizing: border-box;margin-bottom: 0.5em;}#sk-container-id-2 div.sk-estimator:hover {background-color: #d4ebff;}#sk-container-id-2 div.sk-parallel-item::after {content: \"\";width: 100%;border-bottom: 1px solid gray;flex-grow: 1;}#sk-container-id-2 div.sk-label:hover label.sk-toggleable__label {background-color: #d4ebff;}#sk-container-id-2 div.sk-serial::before {content: \"\";position: absolute;border-left: 1px solid gray;box-sizing: border-box;top: 0;bottom: 0;left: 50%;z-index: 0;}#sk-container-id-2 div.sk-serial {display: flex;flex-direction: column;align-items: center;background-color: white;padding-right: 0.2em;padding-left: 0.2em;position: relative;}#sk-container-id-2 div.sk-item {position: relative;z-index: 1;}#sk-container-id-2 div.sk-parallel {display: flex;align-items: stretch;justify-content: center;background-color: white;position: relative;}#sk-container-id-2 div.sk-item::before, #sk-container-id-2 div.sk-parallel-item::before {content: \"\";position: absolute;border-left: 1px solid gray;box-sizing: border-box;top: 0;bottom: 0;left: 50%;z-index: -1;}#sk-container-id-2 div.sk-parallel-item {display: flex;flex-direction: column;z-index: 1;position: relative;background-color: white;}#sk-container-id-2 div.sk-parallel-item:first-child::after {align-self: flex-end;width: 50%;}#sk-container-id-2 div.sk-parallel-item:last-child::after {align-self: flex-start;width: 50%;}#sk-container-id-2 div.sk-parallel-item:only-child::after {width: 0;}#sk-container-id-2 div.sk-dashed-wrapped {border: 1px dashed gray;margin: 0 0.4em 0.5em 0.4em;box-sizing: border-box;padding-bottom: 0.4em;background-color: white;}#sk-container-id-2 div.sk-label label {font-family: monospace;font-weight: bold;display: inline-block;line-height: 1.2em;}#sk-container-id-2 div.sk-label-container {text-align: center;}#sk-container-id-2 div.sk-container {/* jupyter's `normalize.less` sets `[hidden] { display: none; }` but bootstrap.min.css set `[hidden] { display: none !important; }` so we also need the `!important` here to be able to override the default hidden behavior on the sphinx rendered scikit-learn.org. See: https://github.com/scikit-learn/scikit-learn/issues/21755 */display: inline-block !important;position: relative;}#sk-container-id-2 div.sk-text-repr-fallback {display: none;}</style><div id=\"sk-container-id-2\" class=\"sk-top-container\"><div class=\"sk-text-repr-fallback\"><pre>DecisionTreeRegressor(random_state=1)</pre><b>In a Jupyter environment, please rerun this cell to show the HTML representation or trust the notebook. <br />On GitHub, the HTML representation is unable to render, please try loading this page with nbviewer.org.</b></div><div class=\"sk-container\" hidden><div class=\"sk-item\"><div class=\"sk-estimator sk-toggleable\"><input class=\"sk-toggleable__control sk-hidden--visually\" id=\"sk-estimator-id-2\" type=\"checkbox\" checked><label for=\"sk-estimator-id-2\" class=\"sk-toggleable__label sk-toggleable__label-arrow\">DecisionTreeRegressor</label><div class=\"sk-toggleable__content\"><pre>DecisionTreeRegressor(random_state=1)</pre></div></div></div></div></div>"
      ],
      "text/plain": [
       "DecisionTreeRegressor(random_state=1)"
      ]
     },
     "execution_count": 35,
     "metadata": {},
     "output_type": "execute_result"
    }
   ],
   "source": [
    "from sklearn.tree import DecisionTreeRegressor\n",
    "from sklearn.metrics import mean_squared_error, r2_score\n",
    "import numpy as np\n",
    "\n",
    "train_model = DecisionTreeRegressor(random_state=1)\n",
    "train_model.fit(X_train, Y_train)\n"
   ]
  },
  {
   "cell_type": "code",
   "execution_count": 36,
   "id": "0ee1f10d",
   "metadata": {},
   "outputs": [],
   "source": [
    "predictions = train_model.predict(X_test)"
   ]
  },
  {
   "cell_type": "code",
   "execution_count": 39,
   "id": "ddcee94f",
   "metadata": {},
   "outputs": [],
   "source": [
    "result_df = pd.DataFrame({id: test_df['id'], 'sales' : predictions})"
   ]
  },
  {
   "cell_type": "code",
   "execution_count": 40,
   "id": "49bf218d",
   "metadata": {},
   "outputs": [],
   "source": [
    "result_df.to_csv('sales_prediction_sat.csv',index = False)"
   ]
  },
  {
   "cell_type": "code",
   "execution_count": 41,
   "id": "622a5723",
   "metadata": {},
   "outputs": [
    {
     "data": {
      "text/html": [
       "<div>\n",
       "<style scoped>\n",
       "    .dataframe tbody tr th:only-of-type {\n",
       "        vertical-align: middle;\n",
       "    }\n",
       "\n",
       "    .dataframe tbody tr th {\n",
       "        vertical-align: top;\n",
       "    }\n",
       "\n",
       "    .dataframe thead th {\n",
       "        text-align: right;\n",
       "    }\n",
       "</style>\n",
       "<table border=\"1\" class=\"dataframe\">\n",
       "  <thead>\n",
       "    <tr style=\"text-align: right;\">\n",
       "      <th></th>\n",
       "      <th>&lt;built-in function id&gt;</th>\n",
       "      <th>sales</th>\n",
       "    </tr>\n",
       "  </thead>\n",
       "  <tbody>\n",
       "    <tr>\n",
       "      <th>0</th>\n",
       "      <td>3000888</td>\n",
       "      <td>4.0</td>\n",
       "    </tr>\n",
       "    <tr>\n",
       "      <th>1</th>\n",
       "      <td>3000889</td>\n",
       "      <td>0.0</td>\n",
       "    </tr>\n",
       "    <tr>\n",
       "      <th>2</th>\n",
       "      <td>3000890</td>\n",
       "      <td>9.0</td>\n",
       "    </tr>\n",
       "    <tr>\n",
       "      <th>3</th>\n",
       "      <td>3000891</td>\n",
       "      <td>2977.0</td>\n",
       "    </tr>\n",
       "    <tr>\n",
       "      <th>4</th>\n",
       "      <td>3000892</td>\n",
       "      <td>0.0</td>\n",
       "    </tr>\n",
       "  </tbody>\n",
       "</table>\n",
       "</div>"
      ],
      "text/plain": [
       "   <built-in function id>   sales\n",
       "0                 3000888     4.0\n",
       "1                 3000889     0.0\n",
       "2                 3000890     9.0\n",
       "3                 3000891  2977.0\n",
       "4                 3000892     0.0"
      ]
     },
     "execution_count": 41,
     "metadata": {},
     "output_type": "execute_result"
    }
   ],
   "source": [
    "result_df.head()"
   ]
  },
  {
   "cell_type": "code",
   "execution_count": 42,
   "id": "e2e1f79f",
   "metadata": {},
   "outputs": [],
   "source": [
    "result_df = pd.DataFrame({'id': test_df['id'], 'sales': predictions})\n"
   ]
  },
  {
   "cell_type": "code",
   "execution_count": 43,
   "id": "edc8b4a1",
   "metadata": {},
   "outputs": [
    {
     "data": {
      "text/html": [
       "<div>\n",
       "<style scoped>\n",
       "    .dataframe tbody tr th:only-of-type {\n",
       "        vertical-align: middle;\n",
       "    }\n",
       "\n",
       "    .dataframe tbody tr th {\n",
       "        vertical-align: top;\n",
       "    }\n",
       "\n",
       "    .dataframe thead th {\n",
       "        text-align: right;\n",
       "    }\n",
       "</style>\n",
       "<table border=\"1\" class=\"dataframe\">\n",
       "  <thead>\n",
       "    <tr style=\"text-align: right;\">\n",
       "      <th></th>\n",
       "      <th>id</th>\n",
       "      <th>sales</th>\n",
       "    </tr>\n",
       "  </thead>\n",
       "  <tbody>\n",
       "    <tr>\n",
       "      <th>0</th>\n",
       "      <td>3000888</td>\n",
       "      <td>4.0</td>\n",
       "    </tr>\n",
       "    <tr>\n",
       "      <th>1</th>\n",
       "      <td>3000889</td>\n",
       "      <td>0.0</td>\n",
       "    </tr>\n",
       "    <tr>\n",
       "      <th>2</th>\n",
       "      <td>3000890</td>\n",
       "      <td>9.0</td>\n",
       "    </tr>\n",
       "    <tr>\n",
       "      <th>3</th>\n",
       "      <td>3000891</td>\n",
       "      <td>2977.0</td>\n",
       "    </tr>\n",
       "    <tr>\n",
       "      <th>4</th>\n",
       "      <td>3000892</td>\n",
       "      <td>0.0</td>\n",
       "    </tr>\n",
       "  </tbody>\n",
       "</table>\n",
       "</div>"
      ],
      "text/plain": [
       "        id   sales\n",
       "0  3000888     4.0\n",
       "1  3000889     0.0\n",
       "2  3000890     9.0\n",
       "3  3000891  2977.0\n",
       "4  3000892     0.0"
      ]
     },
     "execution_count": 43,
     "metadata": {},
     "output_type": "execute_result"
    }
   ],
   "source": [
    "result_df.head()\n",
    "\n",
    "\n",
    "\n",
    "\n"
   ]
  },
  {
   "cell_type": "code",
   "execution_count": 44,
   "id": "2ba53a85",
   "metadata": {},
   "outputs": [],
   "source": [
    "result_df.to_csv('sales_prediction_sat1.csv',index = False)"
   ]
  },
  {
   "cell_type": "code",
   "execution_count": null,
   "id": "36e49c94",
   "metadata": {},
   "outputs": [],
   "source": []
  }
 ],
 "metadata": {
  "kernelspec": {
   "display_name": "Python 3 (ipykernel)",
   "language": "python",
   "name": "python3"
  },
  "language_info": {
   "codemirror_mode": {
    "name": "ipython",
    "version": 3
   },
   "file_extension": ".py",
   "mimetype": "text/x-python",
   "name": "python",
   "nbconvert_exporter": "python",
   "pygments_lexer": "ipython3",
   "version": "3.11.3"
  }
 },
 "nbformat": 4,
 "nbformat_minor": 5
}
